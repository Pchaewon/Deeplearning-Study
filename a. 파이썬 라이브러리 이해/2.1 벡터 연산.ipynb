{
 "cells": [
  {
   "cell_type": "markdown",
   "id": "4a48ecef",
   "metadata": {},
   "source": [
    "## (1) 벡터의 정의 및 표현\n",
    "> 상수를 스칼라라고 부른다.</br>\n",
    "## (2) 벡터의 연산\n",
    "> 벡터 공간의 정의에 따라 벡터의 연산으로 합과 스칼라곱이 존재한다.\n",
    "## (3) 벡터의 내적\n",
    "> 벡터의 내적은 크기가 같은 두 벡터간 방향 측면에서 유사도를 나타내는 척도이며 연산은 대응하는 원소 간의 곱을 모두 합한 값 </br>\n",
    "> 벡터의 내적은 교환법칙이 성립 np.dot()으로 사용해 구할 수 있음."
   ]
  },
  {
   "cell_type": "code",
   "execution_count": 1,
   "id": "ff976bf7",
   "metadata": {},
   "outputs": [
    {
     "name": "stdout",
     "output_type": "stream",
     "text": [
      "80\n"
     ]
    }
   ],
   "source": [
    "# 벡터의 내적\n",
    "import numpy as np\n",
    "u = np.array([1,2,3,4,5])\n",
    "v=np.array([2,-1,4,7,8])\n",
    "print(np.dot(u,v))"
   ]
  },
  {
   "cell_type": "code",
   "execution_count": 2,
   "id": "c0666b21",
   "metadata": {},
   "outputs": [
    {
     "name": "stdout",
     "output_type": "stream",
     "text": [
      "[ 2 -2 12 28 40]\n"
     ]
    }
   ],
   "source": [
    "# 벡터의 하다마드 곱\n",
    "# 하다마드 곱은 산술곱을 사용한다.\n",
    "u = np.array([1, 2, 3, 4, 5])\n",
    "v = np.array([2, -1, 4, 7, 8])\n",
    "print(u*v)"
   ]
  }
 ],
 "metadata": {
  "kernelspec": {
   "display_name": "Python 3",
   "language": "python",
   "name": "python3"
  },
  "language_info": {
   "codemirror_mode": {
    "name": "ipython",
    "version": 3
   },
   "file_extension": ".py",
   "mimetype": "text/x-python",
   "name": "python",
   "nbconvert_exporter": "python",
   "pygments_lexer": "ipython3",
   "version": "3.6.5"
  }
 },
 "nbformat": 4,
 "nbformat_minor": 5
}
