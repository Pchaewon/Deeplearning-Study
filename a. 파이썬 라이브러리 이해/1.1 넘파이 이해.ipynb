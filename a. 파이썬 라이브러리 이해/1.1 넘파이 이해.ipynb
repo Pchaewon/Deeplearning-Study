{
 "cells": [
  {
   "cell_type": "markdown",
   "id": "872041ac",
   "metadata": {},
   "source": [
    "\n",
    "## (1) 넘파이 임포트 및 넘파이 배열 생성하기\n",
    "\n",
    "#### 넘파이 패키지 : 연산을 위한 라이브러리 함수들의 모임 </br>\n",
    "#### numpy.class 는 다양한 배열 연산에 대한 파이썬 라이브러리 함수를 제공</br>\n",
    "#### ndarray는 고정 크기 동질 다차원 배열(fixed - size homogeous multidimensional array)의 성격을 가짐</br>\n",
    "#### 리스트, 튜플 : 파이썬에서 제공. 서로 다른 데이터 타입을 저장할 수 있음. 크기가 자동으로 커질 수 있음.\n",
    "#### ndarray :  성능향상을 위해 같은 데이터 타입만을 요소로 가짐. 크기가 고정되어 있음. </br> 만약 크기 변경을 하면 새로운 메모리에 할당이 되면 이전 값은 삭제된다\n"
   ]
  },
  {
   "cell_type": "code",
   "execution_count": 2,
   "id": "548f6170",
   "metadata": {},
   "outputs": [
    {
     "name": "stdout",
     "output_type": "stream",
     "text": [
      "[ 0 10 20 30 40 50]\n",
      "<class 'numpy.dtype'>(6,)\n",
      "[ 0 10 20 30 40 50]\n",
      "<class 'numpy.dtype'>(6,)\n",
      "[[ 0  1  2]\n",
      " [10 11 12]]\n",
      "<class 'numpy.dtype'>(2, 3)\n",
      "[[0 0 0]\n",
      " [0 0 0]]\n"
     ]
    }
   ],
   "source": [
    "import numpy as np\n",
    "\n",
    "#1차원 배열\n",
    "x = np.array([0,10,20,30,40,50])\n",
    "print(x)\n",
    "print(type(x.dtype), end=''), print(x.shape)\n",
    "\n",
    "x=np.array((0, 10, 20, 30, 40, 50))\n",
    "print(x)\n",
    "print(type(x.dtype), end=''), print(x.shape)\n",
    "\n",
    "#2차원 배열\n",
    "y = np.array([[0,1,2],[10,11,12]])\n",
    "print(y)\n",
    "print(type(y.dtype), end=''), print(y.shape)\n",
    "\n",
    "z = np.zeros_like(y)\n",
    "print(z)"
   ]
  },
  {
   "cell_type": "markdown",
   "id": "8599d76d",
   "metadata": {},
   "source": [
    "## (2) 넘파이 배열의 원소 액세스"
   ]
  },
  {
   "cell_type": "code",
   "execution_count": 3,
   "id": "13f9ef85",
   "metadata": {},
   "outputs": [
    {
     "name": "stdout",
     "output_type": "stream",
     "text": [
      "10\n",
      "[10 11]\n",
      "21\n",
      "[ 0 20 20 40]\n",
      "[False False False  True  True  True]\n",
      "[30 40 50]\n"
     ]
    }
   ],
   "source": [
    "x = np.array([0, 10, 20, 30, 40, 50])\n",
    "\n",
    "#인덱싱 사용 방식 : 1 차원 배열\n",
    "print(x[1])\n",
    "\n",
    "#인덱스 사용 방식 : 2 차원 배열\n",
    "X = np.array([[0,1],\n",
    "             [10, 11],\n",
    "             [20, 21]])\n",
    "print(X[1])\n",
    "print(X[2,1])\n",
    "\n",
    "#인덱스 배열 사용\n",
    "y = x[np.array([0, 2, 2, 4])]\n",
    "print(y)\n",
    "\n",
    "#불린 배열 또는 연산을 사용\n",
    "k = x> 20\n",
    "print(k)\n",
    "print(x[k])"
   ]
  },
  {
   "cell_type": "markdown",
   "id": "0bd41643",
   "metadata": {},
   "source": [
    "## (3) 배열 슬라이싱"
   ]
  },
  {
   "cell_type": "code",
   "execution_count": 4,
   "id": "def8f91d",
   "metadata": {},
   "outputs": [
    {
     "name": "stdout",
     "output_type": "stream",
     "text": [
      "[[11 12 13]]\n",
      "[[0 0 0]]\n",
      "[[ 0  1  2  3  4]\n",
      " [10  0  0  0 14]\n",
      " [20 21 22 33 34]]\n"
     ]
    }
   ],
   "source": [
    "X = np.array([[0, 1, 2, 3, 4],\n",
    "             [10, 11, 12, 13, 14],\n",
    "             [20, 21, 22, 33, 34]])\n",
    "Y=X[1:2, 1:4]\n",
    "print(Y)\n",
    "\n",
    "Y[0:, 0:]=0\n",
    "print(Y)\n",
    "\n",
    "print(X)"
   ]
  },
  {
   "cell_type": "markdown",
   "id": "4814f4ca",
   "metadata": {},
   "source": [
    "## (4) 넘파이 배열의 산술연산"
   ]
  },
  {
   "cell_type": "code",
   "execution_count": 5,
   "id": "5724fd10",
   "metadata": {},
   "outputs": [
    {
     "name": "stdout",
     "output_type": "stream",
     "text": [
      "\n",
      "### 1차원 배열 산술 연산\n",
      "[-1. -2. -3.]\n",
      "[0.5 0.5 0.5]\n",
      "\n",
      "### 2차원 배열의 산술 연산\n",
      "[[-2  2]\n",
      " [ 3 -2]]\n",
      "[[ 3  0]\n",
      " [ 0 24]]\n"
     ]
    }
   ],
   "source": [
    "#1차원 배열\n",
    "print(\"\\n### 1차원 배열 산술 연산\")\n",
    "x = np.array([1.0, 2.0, 3.0])\n",
    "y = np.array([2.0, 4.0, 6.0])\n",
    "print(x-y)\n",
    "print(x/y)\n",
    "\n",
    "#2차원 배열\n",
    "print('\\n### 2차원 배열의 산술 연산')\n",
    "X = np.array([[1,2],\n",
    "             [3,4]])\n",
    "Y = np.array([[3,0],\n",
    "             [0,6]])\n",
    "print(X-Y)\n",
    "print(X*Y) #하다마드 연산에 해당\n"
   ]
  },
  {
   "cell_type": "markdown",
   "id": "988961b8",
   "metadata": {},
   "source": [
    "## (5) 브로드캐스트 연산"
   ]
  },
  {
   "cell_type": "code",
   "execution_count": 6,
   "id": "dee190d9",
   "metadata": {},
   "outputs": [
    {
     "name": "stdout",
     "output_type": "stream",
     "text": [
      "[[10 20]\n",
      " [30 40]]\n",
      "[[10 40]\n",
      " [30 80]]\n"
     ]
    }
   ],
   "source": [
    "X = np.array([[1,2],\n",
    "             [3,4]])\n",
    "y = np.array([10, 20])\n",
    "\n",
    "print(X*10)\n",
    "print(X*y)"
   ]
  },
  {
   "cell_type": "markdown",
   "id": "64326ff0",
   "metadata": {},
   "source": [
    "## (6) 벡터 내적"
   ]
  },
  {
   "cell_type": "code",
   "execution_count": 7,
   "id": "a5219265",
   "metadata": {},
   "outputs": [
    {
     "name": "stdout",
     "output_type": "stream",
     "text": [
      "14\n",
      "[ 5 11 17]\n"
     ]
    }
   ],
   "source": [
    "#벡터 내적 : 일반\n",
    "X = np.array([1, 2, 3])\n",
    "Y = np.array([1, 2, 3])\n",
    "print(np.dot(X, Y))\n",
    "\n",
    "#벡터 내적 : 브로드 캐스트 적용\n",
    "X = np.array([[1,2], [3,4], [5,6]])\n",
    "Y = np.array([1,2])\n",
    "\n",
    "print(np.dot(X, Y))"
   ]
  },
  {
   "cell_type": "markdown",
   "id": "944b0189",
   "metadata": {},
   "source": [
    "## (7) 행렬 곱"
   ]
  },
  {
   "cell_type": "code",
   "execution_count": 8,
   "id": "2750fa5a",
   "metadata": {},
   "outputs": [
    {
     "name": "stdout",
     "output_type": "stream",
     "text": [
      "[[ 456 1107]\n",
      " [ 130  323]]\n"
     ]
    }
   ],
   "source": [
    "X = np.array([[11, 21, 31],\n",
    "             [42, 5, 6]])\n",
    "Y = np.array([[1,2],\n",
    "             [2, 31],\n",
    "             [13, 14]])\n",
    "print(np.dot(X, Y))"
   ]
  },
  {
   "cell_type": "markdown",
   "id": "755a8e16",
   "metadata": {},
   "source": [
    "## (8) 다차원 배열 평활화"
   ]
  },
  {
   "cell_type": "code",
   "execution_count": 9,
   "id": "02152c7e",
   "metadata": {},
   "outputs": [
    {
     "name": "stdout",
     "output_type": "stream",
     "text": [
      "[1 2 3 4]\n"
     ]
    }
   ],
   "source": [
    "X = np.array([[1,2],\n",
    "             [3,4]])\n",
    "X = X.flatten()\n",
    "print(X)"
   ]
  },
  {
   "cell_type": "markdown",
   "id": "0a1cbc81",
   "metadata": {},
   "source": [
    "## (9) 메시 그리드"
   ]
  },
  {
   "cell_type": "code",
   "execution_count": 12,
   "id": "bfe27fdb",
   "metadata": {},
   "outputs": [
    {
     "name": "stdout",
     "output_type": "stream",
     "text": [
      "[[1 2 3]\n",
      " [1 2 3]\n",
      " [1 2 3]\n",
      " [1 2 3]]\n",
      "[[1 1 1]\n",
      " [2 2 2]\n",
      " [3 3 3]\n",
      " [4 4 4]]\n"
     ]
    },
    {
     "data": {
      "image/png": "[encoded data removed]",
      "text/plain": [
       "<Figure size 288x288 with 1 Axes>"
      ]
     },
     "metadata": {
      "needs_background": "light"
     },
     "output_type": "display_data"
    }
   ],
   "source": [
    "import matplotlib.pyplot as plt\n",
    "\n",
    "plt.figure(figsize=(4,4))\n",
    "X, Y = np.meshgrid([1,2,3], [1,2,3,4])\n",
    "print(X)\n",
    "print(Y)\n",
    "\n",
    "plt.xticks([1, 2, 3])\n",
    "plt.yticks([1, 2, 3, 4])\n",
    "plt.xlim(0, 4)\n",
    "plt.ylim(0, 5)\n",
    "plt.scatter(X, Y)\n",
    "plt.grid(True, ls=\":\", lw=1)\n",
    "plt.show()\n"
   ]
  },
  {
   "cell_type": "markdown",
   "id": "393f6712",
   "metadata": {},
   "source": [
    "## (10) 축방향 방향 연산"
   ]
  },
  {
   "cell_type": "code",
   "execution_count": 13,
   "id": "bbefa469",
   "metadata": {},
   "outputs": [
    {
     "name": "stdout",
     "output_type": "stream",
     "text": [
      "[30 33 36 39 42]\n",
      "[ 10  60 110]\n"
     ]
    }
   ],
   "source": [
    "X = np.array([[0, 1, 2, 3, 4],\n",
    "             [10, 11, 12, 13, 14],\n",
    "             [20, 21, 22, 23, 24]])\n",
    "s = np.sum(X, axis = 0)\n",
    "print(s)\n",
    "\n",
    "s=np.sum(X, axis=1)\n",
    "print(s)"
   ]
  }
 ],
 "metadata": {
  "kernelspec": {
   "display_name": "Python 3",
   "language": "python",
   "name": "python3"
  },
  "language_info": {
   "codemirror_mode": {
    "name": "ipython",
    "version": 3
   },
   "file_extension": ".py",
   "mimetype": "text/x-python",
   "name": "python",
   "nbconvert_exporter": "python",
   "pygments_lexer": "ipython3",
   "version": "3.6.5"
  }
 },
 "nbformat": 4,
 "nbformat_minor": 5
}
